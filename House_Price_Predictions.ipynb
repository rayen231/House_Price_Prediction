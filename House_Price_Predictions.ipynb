{
 "cells": [
  {
   "cell_type": "code",
   "execution_count": 92,
   "id": "5466d62c",
   "metadata": {},
   "outputs": [],
   "source": [
    "#import all the models nd utils needed\n",
    "import pandas as pd \n",
    "import seaborn as sns\n",
    "import numpy as np \n",
    "from sklearn.linear_model import LinearRegression,LogisticRegression\n",
    "from sklearn.model_selection import train_test_split\n",
    "from sklearn.metrics import r2_score\n",
    "from sklearn.ensemble import RandomForestRegressor\n",
    "from sklearn.neural_network import MLPClassifier\n",
    "from sklearn.ensemble import GradientBoostingRegressor\n",
    "from sklearn.neighbors import KNeighborsRegressor\n",
    "from sklearn.datasets import make_friedman2\n",
    "from sklearn.gaussian_process import GaussianProcessRegressor\n",
    "from sklearn.gaussian_process.kernels import DotProduct, WhiteKernel\n",
    "from sklearn.linear_model import SGDRegressor\n",
    "from sklearn.pipeline import make_pipeline\n",
    "from sklearn.preprocessing import StandardScaler\n",
    "from sklearn.linear_model import RANSACRegressor\n",
    "from sklearn.linear_model import Ridge\n",
    "from sklearn import linear_model\n",
    "from sklearn.linear_model import HuberRegressor\n",
    "from sklearn.ensemble import VotingRegressor"
   ]
  },
  {
   "cell_type": "code",
   "execution_count": 2,
   "id": "82cc4866",
   "metadata": {},
   "outputs": [],
   "source": [
    "df=pd.read_csv('all_perth_310121.csv')\n",
    "#df[df['NEAREST_SCH_RANK'].isnull()]"
   ]
  },
  {
   "cell_type": "code",
   "execution_count": 3,
   "id": "3675674c",
   "metadata": {},
   "outputs": [],
   "source": [
    "#df.isnull().sum(),df.corr() // check null values"
   ]
  },
  {
   "cell_type": "code",
   "execution_count": 4,
   "id": "b28a6a27",
   "metadata": {},
   "outputs": [
    {
     "data": {
      "text/html": [
       "<div>\n",
       "<style scoped>\n",
       "    .dataframe tbody tr th:only-of-type {\n",
       "        vertical-align: middle;\n",
       "    }\n",
       "\n",
       "    .dataframe tbody tr th {\n",
       "        vertical-align: top;\n",
       "    }\n",
       "\n",
       "    .dataframe thead th {\n",
       "        text-align: right;\n",
       "    }\n",
       "</style>\n",
       "<table border=\"1\" class=\"dataframe\">\n",
       "  <thead>\n",
       "    <tr style=\"text-align: right;\">\n",
       "      <th></th>\n",
       "      <th>BEDROOMS</th>\n",
       "      <th>BATHROOMS</th>\n",
       "      <th>FLOOR_AREA</th>\n",
       "      <th>BUILD_YEAR</th>\n",
       "      <th>CBD_DIST</th>\n",
       "      <th>DATE_SOLD</th>\n",
       "      <th>LONGITUDE</th>\n",
       "    </tr>\n",
       "  </thead>\n",
       "  <tbody>\n",
       "    <tr>\n",
       "      <th>0</th>\n",
       "      <td>4</td>\n",
       "      <td>2</td>\n",
       "      <td>160</td>\n",
       "      <td>2003.0</td>\n",
       "      <td>18300</td>\n",
       "      <td>2018</td>\n",
       "      <td>115.842450</td>\n",
       "    </tr>\n",
       "    <tr>\n",
       "      <th>1</th>\n",
       "      <td>3</td>\n",
       "      <td>2</td>\n",
       "      <td>139</td>\n",
       "      <td>2013.0</td>\n",
       "      <td>26900</td>\n",
       "      <td>2019</td>\n",
       "      <td>115.859554</td>\n",
       "    </tr>\n",
       "    <tr>\n",
       "      <th>2</th>\n",
       "      <td>3</td>\n",
       "      <td>1</td>\n",
       "      <td>86</td>\n",
       "      <td>1979.0</td>\n",
       "      <td>22600</td>\n",
       "      <td>2015</td>\n",
       "      <td>115.993579</td>\n",
       "    </tr>\n",
       "    <tr>\n",
       "      <th>3</th>\n",
       "      <td>2</td>\n",
       "      <td>1</td>\n",
       "      <td>59</td>\n",
       "      <td>1953.0</td>\n",
       "      <td>17900</td>\n",
       "      <td>2018</td>\n",
       "      <td>116.038009</td>\n",
       "    </tr>\n",
       "    <tr>\n",
       "      <th>4</th>\n",
       "      <td>4</td>\n",
       "      <td>1</td>\n",
       "      <td>131</td>\n",
       "      <td>1998.0</td>\n",
       "      <td>11200</td>\n",
       "      <td>2016</td>\n",
       "      <td>115.947780</td>\n",
       "    </tr>\n",
       "    <tr>\n",
       "      <th>...</th>\n",
       "      <td>...</td>\n",
       "      <td>...</td>\n",
       "      <td>...</td>\n",
       "      <td>...</td>\n",
       "      <td>...</td>\n",
       "      <td>...</td>\n",
       "      <td>...</td>\n",
       "    </tr>\n",
       "    <tr>\n",
       "      <th>33648</th>\n",
       "      <td>3</td>\n",
       "      <td>2</td>\n",
       "      <td>108</td>\n",
       "      <td>2011.0</td>\n",
       "      <td>24900</td>\n",
       "      <td>2016</td>\n",
       "      <td>115.858357</td>\n",
       "    </tr>\n",
       "    <tr>\n",
       "      <th>33649</th>\n",
       "      <td>4</td>\n",
       "      <td>2</td>\n",
       "      <td>132</td>\n",
       "      <td>2014.0</td>\n",
       "      <td>17100</td>\n",
       "      <td>2015</td>\n",
       "      <td>116.013543</td>\n",
       "    </tr>\n",
       "    <tr>\n",
       "      <th>33650</th>\n",
       "      <td>3</td>\n",
       "      <td>2</td>\n",
       "      <td>127</td>\n",
       "      <td>1997.0</td>\n",
       "      <td>16000</td>\n",
       "      <td>2019</td>\n",
       "      <td>115.756070</td>\n",
       "    </tr>\n",
       "    <tr>\n",
       "      <th>33651</th>\n",
       "      <td>4</td>\n",
       "      <td>3</td>\n",
       "      <td>245</td>\n",
       "      <td>2013.0</td>\n",
       "      <td>16100</td>\n",
       "      <td>2016</td>\n",
       "      <td>115.751820</td>\n",
       "    </tr>\n",
       "    <tr>\n",
       "      <th>33654</th>\n",
       "      <td>3</td>\n",
       "      <td>1</td>\n",
       "      <td>85</td>\n",
       "      <td>1974.0</td>\n",
       "      <td>12600</td>\n",
       "      <td>2016</td>\n",
       "      <td>115.842410</td>\n",
       "    </tr>\n",
       "  </tbody>\n",
       "</table>\n",
       "<p>30501 rows × 7 columns</p>\n",
       "</div>"
      ],
      "text/plain": [
       "       BEDROOMS  BATHROOMS  FLOOR_AREA  BUILD_YEAR  CBD_DIST  DATE_SOLD  \\\n",
       "0             4          2         160      2003.0     18300       2018   \n",
       "1             3          2         139      2013.0     26900       2019   \n",
       "2             3          1          86      1979.0     22600       2015   \n",
       "3             2          1          59      1953.0     17900       2018   \n",
       "4             4          1         131      1998.0     11200       2016   \n",
       "...         ...        ...         ...         ...       ...        ...   \n",
       "33648         3          2         108      2011.0     24900       2016   \n",
       "33649         4          2         132      2014.0     17100       2015   \n",
       "33650         3          2         127      1997.0     16000       2019   \n",
       "33651         4          3         245      2013.0     16100       2016   \n",
       "33654         3          1          85      1974.0     12600       2016   \n",
       "\n",
       "        LONGITUDE  \n",
       "0      115.842450  \n",
       "1      115.859554  \n",
       "2      115.993579  \n",
       "3      116.038009  \n",
       "4      115.947780  \n",
       "...           ...  \n",
       "33648  115.858357  \n",
       "33649  116.013543  \n",
       "33650  115.756070  \n",
       "33651  115.751820  \n",
       "33654  115.842410  \n",
       "\n",
       "[30501 rows x 7 columns]"
      ]
     },
     "execution_count": 4,
     "metadata": {},
     "output_type": "execute_result"
    }
   ],
   "source": [
    "x=df.drop(['PRICE','GARAGE','LAND_AREA','NEAREST_STN_DIST','POSTCODE','LATITUDE','NEAREST_SCH_DIST','NEAREST_SCH_RANK'],axis=1)\n",
    "x=x.drop(['ADDRESS','SUBURB','NEAREST_STN','NEAREST_SCH'],axis=1)\n",
    "x.dropna(inplace=True)\n",
    "x['DATE_SOLD']=pd.to_numeric(x.DATE_SOLD.str[3:-1])\n",
    "tr2=temp3 = x.index.tolist()\n",
    "#some data cleaning nd prep"
   ]
  },
  {
   "cell_type": "code",
   "execution_count": 5,
   "id": "5343ef22",
   "metadata": {},
   "outputs": [
    {
     "data": {
      "text/plain": [
       "0         565000\n",
       "1         365000\n",
       "2         287000\n",
       "3         255000\n",
       "4         325000\n",
       "          ...   \n",
       "33648     423000\n",
       "33649     467000\n",
       "33650     955000\n",
       "33651    1040000\n",
       "33654     295000\n",
       "Name: PRICE, Length: 30501, dtype: int64"
      ]
     },
     "execution_count": 5,
     "metadata": {},
     "output_type": "execute_result"
    }
   ],
   "source": [
    "y=df['PRICE']\n",
    "tr1=y.index.tolist()\n",
    "temp3 = [i for i in tr1 if  i not in tr2]\n",
    "y.drop(temp3,inplace=True)\n",
    "y"
   ]
  },
  {
   "cell_type": "markdown",
   "id": "7dbf4eb1",
   "metadata": {},
   "source": [
    "                                                FEATURES ND LABELS ARE READYY"
   ]
  },
  {
   "cell_type": "code",
   "execution_count": 117,
   "id": "384fea5b",
   "metadata": {},
   "outputs": [],
   "source": [
    "X_train, X_test, y_train, y_test=train_test_split(x,y,test_size=0.2,random_state=100)"
   ]
  },
  {
   "cell_type": "code",
   "execution_count": 118,
   "id": "3ae66a07",
   "metadata": {},
   "outputs": [],
   "source": [
    "#testing different model \n",
    "model3=LinearRegression()#-->0.5155059008514132\n",
    "model1=RandomForestRegressor()#-->0.7699559604845458\n",
    "#model=MLPClassifier(solver='lbfgs', alpha=1e-5,hidden_layer_sizes=(5, 2), random_state=1)-->-0.35419387776001776\n",
    "model2=GradientBoostingRegressor(random_state=1)#-->0.7332387853148312\n",
    "#model=LogisticRegression(random_state=2)-->-0.2730359190548861\n",
    "#model=KNeighborsRegressor(n_neighbors=2)-->0.416104524685567\n",
    "model4=make_pipeline(StandardScaler(),SGDRegressor(max_iter=1000, tol=1e-3))#-->0.5113128813943622\n",
    "#model=RANSACRegressor(random_state=0)-->0.3017608935218019\n",
    "model5=Ridge(alpha=1.0)#-->0.5155059008514168\n",
    "#model=linear_model.Lasso(alpha=0.1)\n",
    "#model=HuberRegressor()-->0.46630901878370745\n",
    "#model=linear_model.Lars(n_nonzero_coefs=1)-->0.17575325344680282\n",
    "#model=VotingRegressor(estimators=[('gb', model1), ('rf', model2)])#-->0.8988486083186695\n",
    "model=VotingRegressor(estimators=[('gb', model1), ('rf', model2), ('lr', model3),])#--0.8310279197904944"
   ]
  },
  {
   "cell_type": "code",
   "execution_count": 119,
   "id": "b5a6973c",
   "metadata": {},
   "outputs": [
    {
     "data": {
      "text/plain": [
       "0.8280329981399263"
      ]
     },
     "execution_count": 119,
     "metadata": {},
     "output_type": "execute_result"
    }
   ],
   "source": [
    "model.fit(X_train,y_train)\n",
    "model.score(X_train,y_train)"
   ]
  },
  {
   "cell_type": "code",
   "execution_count": 120,
   "id": "4219391b",
   "metadata": {},
   "outputs": [
    {
     "data": {
      "text/plain": [
       "0.7522660195599247"
      ]
     },
     "execution_count": 120,
     "metadata": {},
     "output_type": "execute_result"
    }
   ],
   "source": [
    "predictions=model.predict(X_test)\n",
    "r2_score(y_test,predictions)"
   ]
  },
  {
   "cell_type": "code",
   "execution_count": null,
   "id": "0d93a34d",
   "metadata": {},
   "outputs": [],
   "source": []
  }
 ],
 "metadata": {
  "kernelspec": {
   "display_name": "Python 3 (ipykernel)",
   "language": "python",
   "name": "python3"
  },
  "language_info": {
   "codemirror_mode": {
    "name": "ipython",
    "version": 3
   },
   "file_extension": ".py",
   "mimetype": "text/x-python",
   "name": "python",
   "nbconvert_exporter": "python",
   "pygments_lexer": "ipython3",
   "version": "3.9.13"
  }
 },
 "nbformat": 4,
 "nbformat_minor": 5
}
